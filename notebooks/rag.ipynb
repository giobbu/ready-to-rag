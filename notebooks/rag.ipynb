{
 "cells": [
  {
   "cell_type": "code",
   "execution_count": null,
   "id": "9a215ded",
   "metadata": {},
   "outputs": [],
   "source": [
    "# Define the path to the RAG repository\n",
    "path_to_rag = \"path/to/rag/repository\"\n",
    "\n",
    "import os\n",
    "import sys\n",
    "sys.path.append(path_to_rag)"
   ]
  },
  {
   "cell_type": "code",
   "execution_count": null,
   "id": "60176fda",
   "metadata": {},
   "outputs": [],
   "source": [
    "from basic_rag import RAGgish\n",
    "from config.setting import Settings\n",
    "params = Settings()"
   ]
  },
  {
   "cell_type": "markdown",
   "id": "e5f11ae5",
   "metadata": {},
   "source": [
    "## Initialize RAG class"
   ]
  },
  {
   "cell_type": "code",
   "execution_count": 14,
   "id": "45b40eb5",
   "metadata": {},
   "outputs": [],
   "source": [
    "basic_rag = RAGgish(embed_name=params.embed_name, llm_name=params.llm_name, temperature=params.temperature)"
   ]
  },
  {
   "cell_type": "markdown",
   "id": "78c7ad43",
   "metadata": {},
   "source": [
    "## Load documents"
   ]
  },
  {
   "cell_type": "code",
   "execution_count": 15,
   "id": "369cd62b",
   "metadata": {},
   "outputs": [],
   "source": [
    "directory_test_document = os.path.join(path_to_rag, params.input_dir_test)\n",
    "\n",
    "documents = basic_rag.load_data(input_dir=directory_test_document, required_exts=[\".pdf\"])"
   ]
  },
  {
   "cell_type": "markdown",
   "id": "a2f6446e",
   "metadata": {},
   "source": [
    "## Parse documents"
   ]
  },
  {
   "cell_type": "code",
   "execution_count": 16,
   "id": "f7b0ce9d",
   "metadata": {},
   "outputs": [
    {
     "name": "stderr",
     "output_type": "stream",
     "text": [
      "Parsing nodes: 100%|██████████| 8/8 [00:00<00:00, 568.94it/s]\n"
     ]
    }
   ],
   "source": [
    "nodes = basic_rag.parse_documents(documents, chunk_size=params.sentence_splitter_chunk)"
   ]
  },
  {
   "cell_type": "markdown",
   "id": "1fcac820",
   "metadata": {},
   "source": [
    "## Define *Vectore-Store-Index*"
   ]
  },
  {
   "cell_type": "code",
   "execution_count": 17,
   "id": "b38300b5",
   "metadata": {},
   "outputs": [
    {
     "name": "stdout",
     "output_type": "stream",
     "text": [
      "INFO:sentence_transformers.SentenceTransformer:Load pretrained SentenceTransformer: BAAI/bge-small-en-v1.5\n",
      "Load pretrained SentenceTransformer: BAAI/bge-small-en-v1.5\n",
      "INFO:sentence_transformers.SentenceTransformer:2 prompts are loaded, with the keys: ['query', 'text']\n",
      "2 prompts are loaded, with the keys: ['query', 'text']\n"
     ]
    },
    {
     "name": "stderr",
     "output_type": "stream",
     "text": [
      "Generating embeddings:   0%|          | 0/19 [00:00<?, ?it/s]"
     ]
    },
    {
     "name": "stdout",
     "output_type": "stream",
     "text": [
      "INFO:httpx:HTTP Request: POST https://api.openai.com/v1/embeddings \"HTTP/1.1 200 OK\"\n",
      "HTTP Request: POST https://api.openai.com/v1/embeddings \"HTTP/1.1 200 OK\"\n"
     ]
    },
    {
     "name": "stderr",
     "output_type": "stream",
     "text": [
      "Generating embeddings: 100%|██████████| 19/19 [00:01<00:00, 11.10it/s]\n"
     ]
    }
   ],
   "source": [
    "vector_index = basic_rag.create_or_load_vector_idx(nodes=nodes,\n",
    "                                                vec_store_path=params.vec_store_idx_dir,\n",
    "                                                vec_store_idx=params.vec_store_idx_name)"
   ]
  },
  {
   "cell_type": "markdown",
   "id": "3084e64d",
   "metadata": {},
   "source": [
    "## Define *Summary-Index*"
   ]
  },
  {
   "cell_type": "code",
   "execution_count": 18,
   "id": "5329622b",
   "metadata": {},
   "outputs": [
    {
     "name": "stdout",
     "output_type": "stream",
     "text": [
      "INFO:sentence_transformers.SentenceTransformer:Load pretrained SentenceTransformer: BAAI/bge-small-en-v1.5\n",
      "Load pretrained SentenceTransformer: BAAI/bge-small-en-v1.5\n",
      "INFO:sentence_transformers.SentenceTransformer:2 prompts are loaded, with the keys: ['query', 'text']\n",
      "2 prompts are loaded, with the keys: ['query', 'text']\n"
     ]
    }
   ],
   "source": [
    "summary_index = basic_rag.create_or_load_summary_idx(nodes=nodes,\n",
    "                                                    summary_path=params.summ_idx_dir,\n",
    "                                                    summary_idx=params.summ_idx_name)"
   ]
  },
  {
   "cell_type": "markdown",
   "id": "45ff6a67",
   "metadata": {},
   "source": [
    "## Define *Query-Tools*"
   ]
  },
  {
   "cell_type": "code",
   "execution_count": 19,
   "id": "8dd9d902",
   "metadata": {},
   "outputs": [
    {
     "name": "stdout",
     "output_type": "stream",
     "text": [
      "Vector Tool Schema:\n",
      "{'properties': {'query': {'title': 'Query', 'type': 'string'}}, 'required': ['query'], 'type': 'object'}\n",
      "Metadata Tool Schema:\n",
      "{'properties': {'query': {'title': 'Query', 'type': 'string'}, 'page_numbers': {'items': {'type': 'string'}, 'title': 'Page Numbers', 'type': 'array'}}, 'required': ['query', 'page_numbers'], 'type': 'object'}\n",
      "Summary Tool Schema:\n",
      "{'properties': {'input': {'title': 'Input', 'type': 'string'}}, 'required': ['input'], 'type': 'object'}\n"
     ]
    }
   ],
   "source": [
    "list_tools = []\n",
    "for tools in params.list_tools:\n",
    "    if tools == 'Base':\n",
    "        list_tools.append(basic_rag.create_base_query_tool(vector_index))\n",
    "    elif tools == 'Meta':\n",
    "        list_tools.append(basic_rag.create_metadata_query_tool(vector_index))\n",
    "    elif tools == 'Summary':\n",
    "        list_tools.append(basic_rag.create_summary_query_tool(summary_index))\n",
    "    else:\n",
    "        raise ValueError(f\"Tool {tools} not recognized. Please check the config file.\")"
   ]
  },
  {
   "cell_type": "markdown",
   "id": "5bf9e681",
   "metadata": {},
   "source": [
    "## Answer to the following query"
   ]
  },
  {
   "cell_type": "code",
   "execution_count": 20,
   "id": "740fcbb1",
   "metadata": {},
   "outputs": [],
   "source": [
    "query = \"What is the main topic of the document?\""
   ]
  },
  {
   "cell_type": "code",
   "execution_count": 21,
   "id": "2505b9e1",
   "metadata": {},
   "outputs": [
    {
     "name": "stdout",
     "output_type": "stream",
     "text": [
      "--------------------------------------\n",
      "Query: What is the main topic of the document?\n",
      "--------------------------------------\n",
      "INFO:httpx:HTTP Request: POST https://api.openai.com/v1/chat/completions \"HTTP/1.1 200 OK\"\n",
      "HTTP Request: POST https://api.openai.com/v1/chat/completions \"HTTP/1.1 200 OK\"\n",
      "=== Calling Function ===\n",
      "Calling function: vector_tool with args: {\"query\": \"main topic\"}\n",
      "INFO:httpx:HTTP Request: POST https://api.openai.com/v1/embeddings \"HTTP/1.1 200 OK\"\n",
      "HTTP Request: POST https://api.openai.com/v1/embeddings \"HTTP/1.1 200 OK\"\n",
      "INFO:httpx:HTTP Request: POST https://api.openai.com/v1/chat/completions \"HTTP/1.1 200 OK\"\n",
      "HTTP Request: POST https://api.openai.com/v1/chat/completions \"HTTP/1.1 200 OK\"\n",
      "=== Function Output ===\n",
      "{\"response\":\"Anomaly Attribution Methods in XAI\",\"confidence\":0.9,\"confidence_explanation\":\"The answer is derived directly from the provided context information, specifically focusing on the main contributions of the work related to anomaly attribution methods in Explainable Artificial Intelligence (XAI).\"}\n"
     ]
    }
   ],
   "source": [
    "response = basic_rag.answer(query, list_tools)"
   ]
  }
 ],
 "metadata": {
  "kernelspec": {
   "display_name": "agent",
   "language": "python",
   "name": "python3"
  },
  "language_info": {
   "codemirror_mode": {
    "name": "ipython",
    "version": 3
   },
   "file_extension": ".py",
   "mimetype": "text/x-python",
   "name": "python",
   "nbconvert_exporter": "python",
   "pygments_lexer": "ipython3",
   "version": "3.9.7"
  }
 },
 "nbformat": 4,
 "nbformat_minor": 5
}
